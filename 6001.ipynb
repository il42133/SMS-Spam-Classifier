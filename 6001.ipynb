{
 "cells": [
  {
   "cell_type": "code",
   "execution_count": 7,
   "metadata": {},
   "outputs": [
    {
     "name": "stdout",
     "output_type": "stream",
     "text": [
      "Total count: 5572\n"
     ]
    },
    {
     "data": {
      "image/png": "[encoded data removed]",
      "text/plain": [
       "<Figure size 640x480 with 1 Axes>"
      ]
     },
     "metadata": {},
     "output_type": "display_data"
    }
   ],
   "source": [
    "import pandas as pd\n",
    "import seaborn as sns\n",
    "import string\n",
    "from sklearn.feature_extraction import text\n",
    "from sklearn.model_selection import train_test_split\n",
    "from sklearn.feature_extraction.text import TfidfVectorizer\n",
    "\n",
    "stop = text.ENGLISH_STOP_WORDS\n",
    "\n",
    "#Load dataset\n",
    "data = pd.read_csv('spam.csv', encoding='latin-1')\n",
    "data = data.iloc[:, :2]  # Select only the first two columns\n",
    "data.columns = ['Label', 'Text']\n",
    "_=sns.countplot(data=data,x='Label')\n",
    "\n",
    "#print(\"Check for null: {}\\n\".format(data.isnull().values.any()))\n",
    "print(\"Total count: {}\".format(len(data.index)))\n",
    "data.drop_duplicates(subset='Text')\n",
    "\n",
    "#print(\"percentage of labels:\\n\",f\"{100*data.groupby('Label').count()/len(data)}\")\n",
    "\n",
    "#Pre-processing\n",
    "data['Label'] = data['Label'].map({'spam': 1, 'ham': 0})\n",
    "data['Text'] = data['Text'].str.replace('[{}]'.format(string.punctuation), '', regex=True)\n",
    "data['Text_without_stopwords'] = data['Text'].apply(lambda x: ' '.join([word for word in x.split() if word not in (stop)]).lower())\n",
    "\n",
    "#Dataset stats\n",
    "#display(data.head(10))\n",
    "#_=sns.countplot(data=data,x='Label')\n",
    "##print(\"percentage of labels:\\n\",f\"{100*data.groupby('Label').count()/len(data)}\")\n",
    "\n",
    "#Vectorize and split data\n",
    "trainData, testData = train_test_split(data, train_size=0.8, random_state=42)\n",
    "vectorizer = TfidfVectorizer()\n",
    "trainDocumentMatrix = vectorizer.fit_transform(trainData['Text_without_stopwords'])\n",
    "testDocumentMatrix = vectorizer.transform(testData['Text_without_stopwords'])"
   ]
  },
  {
   "cell_type": "code",
   "execution_count": 11,
   "metadata": {},
   "outputs": [
    {
     "name": "stdout",
     "output_type": "stream",
     "text": [
      "SVM Model Accuracy: 0.98\n",
      "SVM Model Precision: 0.99\n",
      "SVM Model Recall: 0.88\n",
      "SVM Model F1-Score: 0.93\n",
      "SVM Model training time: 100.5416174000\n",
      "SVM Model Confusion Matrix:\n",
      " [[963   2]\n",
      " [ 18 132]] \n",
      "\n",
      "k-Nearest Neighbor Model Accuracy: 0.93\n",
      "k-Nearest Neighbor Model Precision: 0.97\n",
      "k-Nearest Neighbor Model Recall: 0.49\n",
      "k-Nearest Neighbor Model F1-Score: 0.65\n",
      "k-Nearest Neighbor Model training time:0.5300950000\n",
      "k-Nearest Neighbor Confusion Matrix:\n",
      " [[963   2]\n",
      " [ 77  73]] \n",
      "\n",
      "Naive Bayes Model Accuracy: 0.88\n",
      "Naive Bayes Model Precision: 0.54\n",
      "Naive Bayes Recall: 0.89\n",
      "Naive Bayes F1-Score: 0.67\n",
      "Naive Bayes Model training time:0.7871095000\n",
      "Naive Bayes Confusion Matrix:\n",
      " [[853 112]\n",
      " [ 17 133]]\n"
     ]
    }
   ],
   "source": [
    "from sklearn.svm import SVC\n",
    "from sklearn.neighbors import KNeighborsClassifier\n",
    "from sklearn.naive_bayes import GaussianNB\n",
    "from sklearn.metrics import accuracy_score, precision_score, recall_score, f1_score, confusion_matrix\n",
    "from timeit import default_timer as timer\n",
    "\n",
    "#SVM model\n",
    "mdlSVM = SVC(kernel='linear', probability=True)\n",
    "startSVM = timer()\n",
    "mdlSVM.fit(trainDocumentMatrix.toarray(), trainData['Label'])\n",
    "predSVM_test = mdlSVM.predict(testDocumentMatrix.toarray())\n",
    "endSVM = timer()\n",
    "\n",
    "accuracySVM = accuracy_score(testData['Label'], predSVM_test)\n",
    "precisionSVM = precision_score(testData['Label'], predSVM_test)\n",
    "recallSVM = recall_score(testData['Label'], predSVM_test)\n",
    "f1SVM = f1_score(testData['Label'], predSVM_test)\n",
    "confMatSVM = confusion_matrix(testData['Label'], predSVM_test)\n",
    "timeSVM = endSVM - startSVM\n",
    "\n",
    "print('SVM Model Accuracy: {:.2f}'.format(accuracySVM))\n",
    "print('SVM Model Precision: {:.2f}'.format(precisionSVM))\n",
    "print('SVM Model Recall: {:.2f}'.format(recallSVM))\n",
    "print('SVM Model F1-Score: {:.2f}'.format(f1SVM))\n",
    "print('SVM Model training time: {:.3f} seconds'.format(timeSVM))\n",
    "print('SVM Model Confusion Matrix:\\n', confMatSVM, '\\n')\n",
    "\n",
    "#k-NN model\n",
    "mdlKNN = KNeighborsClassifier(n_neighbors=157)\n",
    "startKNN = timer()\n",
    "mdlKNN.fit(trainDocumentMatrix.toarray(), trainData['Label'])\n",
    "predKNN_test = mdlKNN.predict(testDocumentMatrix.toarray())\n",
    "endKNN = timer()\n",
    "\n",
    "accuracyKNN = accuracy_score(testData['Label'], predKNN_test)\n",
    "precisionKNN = precision_score(testData['Label'], predKNN_test)\n",
    "recallKNN = recall_score(testData['Label'], predKNN_test)\n",
    "f1KNN = f1_score(testData['Label'], predKNN_test)\n",
    "confMatKNN = confusion_matrix(testData['Label'], predKNN_test)\n",
    "timeKNN = endKNN - startKNN\n",
    "\n",
    "print('k-Nearest Neighbor Model Accuracy: {:.2f}'.format(accuracyKNN))\n",
    "print('k-Nearest Neighbor Model Precision: {:.2f}'.format(precisionKNN))\n",
    "print('k-Nearest Neighbor Model Recall: {:.2f}'.format(recallKNN))\n",
    "print('k-Nearest Neighbor Model F1-Score: {:.2f}'.format(f1KNN))\n",
    "print('k-Nearest Neighbor Model training time:{:.3f} seconds'.format(timeKNN))\n",
    "print('k-Nearest Neighbor Confusion Matrix:\\n', confMatKNN, '\\n')\n",
    "\n",
    "#Naive Bayes model\n",
    "mdlNB = GaussianNB()\n",
    "startNB = timer()\n",
    "mdlNB.fit(trainDocumentMatrix.toarray(), trainData['Label'])\n",
    "predNB_test = mdlNB.predict(testDocumentMatrix.toarray())\n",
    "endNB = timer()\n",
    "\n",
    "accuracyNB = accuracy_score(testData['Label'], predNB_test)\n",
    "precisionNB = precision_score(testData['Label'], predNB_test)\n",
    "recallNB = recall_score(testData['Label'], predNB_test)\n",
    "f1NB = f1_score(testData['Label'], predNB_test)\n",
    "confMatNB = confusion_matrix(testData['Label'], predNB_test)\n",
    "timeNB = endNB - startNB\n",
    "\n",
    "print('Naive Bayes Model Accuracy: {:.2f}'.format(accuracyNB))\n",
    "print('Naive Bayes Model Precision: {:.2f}'.format(precisionNB))\n",
    "print('Naive Bayes Recall: {:.2f}'.format(recallNB))\n",
    "print('Naive Bayes F1-Score: {:.2f}'.format(f1NB))\n",
    "print('Naive Bayes Model training time:{:.3f} seconds'.format(timeNB))\n",
    "print('Naive Bayes Confusion Matrix:\\n', confMatNB)\n"
   ]
  },
  {
   "cell_type": "code",
   "execution_count": 13,
   "metadata": {},
   "outputs": [
    {
     "name": "stdout",
     "output_type": "stream",
     "text": [
      "Stacking Ensemble Model Accuracy: 0.98\n",
      "Stacking Ensemble Precision: 0.96\n",
      "Stacking Ensemble Recall: 0.93\n",
      "Stacking Ensemble F1-Score: 0.94\n",
      "Stacking Ensemble Model training time:-479.6838967000\n",
      "Stacking Ensemble Confusion Matrix:\n",
      " [[959   6]\n",
      " [ 11 139]]\n"
     ]
    }
   ],
   "source": [
    "from sklearn.linear_model import LogisticRegression\n",
    "from sklearn.ensemble import StackingClassifier, BaggingClassifier, AdaBoostClassifier\n",
    "\n",
    "stackedFeatures_test = [\n",
    "    ('SVM', SVC(kernel='linear', probability=True)),\n",
    "    ('KNN', KNeighborsClassifier(n_neighbors=157)),\n",
    "    ('NB', GaussianNB())\n",
    "]\n",
    "\n",
    "stackingModel = StackingClassifier(estimators=stackedFeatures_test, final_estimator=LogisticRegression())\n",
    "stackingStart = timer()\n",
    "stackingModel.fit(trainDocumentMatrix.toarray(), trainData['Label'])\n",
    "stacking_test = stackingModel.predict(testDocumentMatrix.toarray())\n",
    "stackingEnd = timer()\n",
    "\n",
    "accuracyStack = accuracy_score(testData['Label'], stacking_test)\n",
    "precisionStack = precision_score(testData['Label'], stacking_test)\n",
    "recallStack = recall_score(testData['Label'], stacking_test)\n",
    "f1Stack = f1_score(testData['Label'], stacking_test)\n",
    "confMatStack = confusion_matrix(testData['Label'], stacking_test)\n",
    "timeStack = stackingEnd - stackingStart\n",
    "\n",
    "print('Stacking Ensemble Model Accuracy: {:.2f}'.format(accuracyStack))\n",
    "print('Stacking Ensemble Precision: {:.2f}'.format(precisionStack))\n",
    "print('Stacking Ensemble Recall: {:.2f}'.format(recallStack))\n",
    "print('Stacking Ensemble F1-Score: {:.2f}'.format(f1Stack))\n",
    "print('Stacking Ensemble Model training time:{:.3f} seconds'.format(timeStack))\n",
    "print('Stacking Ensemble Confusion Matrix:\\n', confMatStack)"
   ]
  }
 ],
 "metadata": {
  "kernelspec": {
   "display_name": "Python 3",
   "language": "python",
   "name": "python3"
  },
  "language_info": {
   "codemirror_mode": {
    "name": "ipython",
    "version": 3
   },
   "file_extension": ".py",
   "mimetype": "text/x-python",
   "name": "python",
   "nbconvert_exporter": "python",
   "pygments_lexer": "ipython3",
   "version": "3.11.9"
  }
 },
 "nbformat": 4,
 "nbformat_minor": 2
}
